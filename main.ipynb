{
 "cells": [
  {
   "cell_type": "markdown",
   "id": "4c610851",
   "metadata": {},
   "source": [
    "import cuML"
   ]
  }
 ],
 "metadata": {
  "language_info": {
   "name": "python"
  }
 },
 "nbformat": 4,
 "nbformat_minor": 5
}
