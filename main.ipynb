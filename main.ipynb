{
  "cells": [
    {
      "cell_type": "code",
      "execution_count": null,
      "id": "LyU3TSv8FrZ9",
      "metadata": {
        "colab": {
          "base_uri": "https://localhost:8080/"
        },
        "id": "LyU3TSv8FrZ9",
        "outputId": "e5af5ccd-cb85-4eff-d4b3-e01cb53911c7"
      },
      "outputs": [
        {
          "ename": "",
          "evalue": "",
          "output_type": "error",
          "traceback": [
            "\u001b[1;31mRunning cells with 'base (Python 3.12.4)' requires the ipykernel package.\n",
            "\u001b[1;31m<a href='command:jupyter.createPythonEnvAndSelectController'>Create a Python Environment</a> with the required packages."
          ]
        }
      ],
      "source": [
        "from numba import cuda\n",
        "\n",
        "def is_gpu_available():\n",
        "    try:\n",
        "        return cuda.is_available()\n",
        "    except:\n",
        "        return False\n",
        "\n",
        "gpu_available = is_gpu_available()\n",
        "print(f\"GPU is available: {gpu_available}\")"
      ],
      "metadata": {
        "id": "LyU3TSv8FrZ9",
        "outputId": "e5af5ccd-cb85-4eff-d4b3-e01cb53911c7",
        "colab": {
          "base_uri": "https://localhost:8080/"
        }
      },
      "id": "LyU3TSv8FrZ9",
      "execution_count": 92,
      "outputs": [
        {
          "output_type": "stream",
          "name": "stdout",
          "text": [
            "GPU is available: True\n"
          ]
        }
      ]
    },
    {
      "cell_type": "code",
      "execution_count": 93,
      "id": "7T0mas9FnnVc",
      "metadata": {
        "id": "7T0mas9FnnVc"
      },
      "outputs": [],
      "source": [
        "if gpu_available:\n",
        "    import cudf as pd\n",
        "    from cuml.preprocessing import LabelEncoder, StandardScaler\n",
        "    from cuml.model_selection import train_test_split\n",
        "    from cuml.metrics import accuracy_score\n",
        "else:\n",
        "    import pandas as pd\n",
        "    from sklearn.preprocessing import LabelEncoder, StandardScaler\n",
        "    from sklearn.model_selection import train_test_split\n",
        "\n",
        "from sklearn.metrics import classification_report, confusion_matrix"
      ],
      "metadata": {
        "id": "7T0mas9FnnVc"
      },
      "id": "7T0mas9FnnVc",
      "execution_count": 93,
      "outputs": []
    },
    {
      "cell_type": "markdown",
      "id": "yKQM5eilojGZ",
      "metadata": {
        "id": "yKQM5eilojGZ"
      },
      "source": [
        "# Read Data\n",
        "use cudf to read data into GPU\n",
        "\n",
        "- delete unuseful colums(id, Name, City)\n",
        "- Combine[(Academic Pressure, Work Pressure), (Working professional or student, Profession), (Study Satisfaction, Job Satisfaction)]\n",
        "- Normalize or mapping"
      ]
    },
    {
      "cell_type": "code",
      "execution_count": 94,
      "id": "QLW8I_xTorYi",
      "metadata": {
        "id": "QLW8I_xTorYi",
        "outputId": "04367e2d-f33c-4841-b857-153e75e182a6",
        "colab": {
          "base_uri": "https://localhost:8080/",
          "height": 363
        },
        "id": "QLW8I_xTorYi",
        "outputId": "04367e2d-f33c-4841-b857-153e75e182a6"
      },
      "id": "QLW8I_xTorYi",
      "execution_count": 94,
      "outputs": [
        {
          "data": {
            "text/plain": [
              "   Gender       Age  Working Professional or Student  Academic Pressure  \\\n",
              "0       0  0.695360                               10           1.407041   \n",
              "1       1 -1.161867                               55           0.693745   \n",
              "2       1 -0.596624                               54           1.407041   \n",
              "3       1 -1.484863                               55           1.407041   \n",
              "4       0 -0.838871                                9          -1.446144   \n",
              "5       0  1.502850                               26          -0.732848   \n",
              "6       1  0.533862                               11           1.407041   \n",
              "7       1 -0.192879                               55          -0.019551   \n",
              "8       0 -1.323365                               54          -0.732848   \n",
              "9       0  0.130117                               22           0.693745   \n",
              "\n",
              "   Study Satisfaction  Sleep Duration  Dietary Habits  Degree  \\\n",
              "0           -0.689253               3               0      33   \n",
              "1            0.022383               0               2      63   \n",
              "2           -0.689253               1               0      21   \n",
              "3           -1.400889               0               1      28   \n",
              "4           -1.400889               1               2      28   \n",
              "5            1.445655               1               0      82   \n",
              "6           -0.689253               2               1      83   \n",
              "7            0.734019               2               2      21   \n",
              "8            1.445655               1               1      36   \n",
              "9           -1.400889               1               0      84   \n",
              "\n",
              "   Have you ever had suicidal thoughts ?  Work/Study Hours  Financial Stress  \\\n",
              "0                                      0         -1.363057         -0.699607   \n",
              "1                                      1          0.193928          0.007793   \n",
              "2                                      1         -0.844062         -1.407006   \n",
              "3                                      1          0.972421         -1.407006   \n",
              "4                                      1          0.712923          0.715193   \n",
              "5                                      0          0.193928          1.422593   \n",
              "6                                      0         -0.065570         -0.699607   \n",
              "7                                      0          0.972421          0.007793   \n",
              "8                                      0         -0.844062         -0.699607   \n",
              "9                                      1          0.193928         -0.699607   \n",
              "\n",
              "   Family History of Mental Illness  Depression  \n",
              "0                                 0           0  \n",
              "1                                 0           1  \n",
              "2                                 0           1  \n",
              "3                                 1           1  \n",
              "4                                 1           0  \n",
              "5                                 0           0  \n",
              "6                                 0           0  \n",
              "7                                 1           0  \n",
              "8                                 1           0  \n",
              "9                                 1           0  "
            ],
            "text/html": [
              "\n",
              "  <div id=\"df-f37e119c-802a-4431-8cb5-40fd1ad4f48c\" class=\"colab-df-container\">\n",
              "    <div>\n",
              "<style scoped>\n",
              "    .dataframe tbody tr th:only-of-type {\n",
              "        vertical-align: middle;\n",
              "    }\n",
              "\n",
              "    .dataframe tbody tr th {\n",
              "        vertical-align: top;\n",
              "    }\n",
              "\n",
              "    .dataframe thead th {\n",
              "        text-align: right;\n",
              "    }\n",
              "</style>\n",
              "<table border=\"1\" class=\"dataframe\">\n",
              "  <thead>\n",
              "    <tr style=\"text-align: right;\">\n",
              "      <th></th>\n",
              "      <th>Gender</th>\n",
              "      <th>Age</th>\n",
              "      <th>Working Professional or Student</th>\n",
              "      <th>Academic Pressure</th>\n",
              "      <th>Study Satisfaction</th>\n",
              "      <th>Sleep Duration</th>\n",
              "      <th>Dietary Habits</th>\n",
              "      <th>Degree</th>\n",
              "      <th>Have you ever had suicidal thoughts ?</th>\n",
              "      <th>Work/Study Hours</th>\n",
              "      <th>Financial Stress</th>\n",
              "      <th>Family History of Mental Illness</th>\n",
              "      <th>Depression</th>\n",
              "    </tr>\n",
              "  </thead>\n",
              "  <tbody>\n",
              "    <tr>\n",
              "      <th>0</th>\n",
              "      <td>0</td>\n",
              "      <td>0.695360</td>\n",
              "      <td>10</td>\n",
              "      <td>1.406358</td>\n",
              "      <td>-0.689253</td>\n",
              "      <td>3.0</td>\n",
              "      <td>0.0</td>\n",
              "      <td>33</td>\n",
              "      <td>0</td>\n",
              "      <td>-1.363057</td>\n",
              "      <td>-0.699607</td>\n",
              "      <td>0</td>\n",
              "      <td>0</td>\n",
              "    </tr>\n",
              "    <tr>\n",
              "      <th>1</th>\n",
              "      <td>1</td>\n",
              "      <td>-1.161867</td>\n",
              "      <td>55</td>\n",
              "      <td>0.693248</td>\n",
              "      <td>0.022383</td>\n",
              "      <td>0.0</td>\n",
              "      <td>2.0</td>\n",
              "      <td>63</td>\n",
              "      <td>1</td>\n",
              "      <td>0.193928</td>\n",
              "      <td>0.007793</td>\n",
              "      <td>0</td>\n",
              "      <td>1</td>\n",
              "    </tr>\n",
              "    <tr>\n",
              "      <th>2</th>\n",
              "      <td>1</td>\n",
              "      <td>-0.596624</td>\n",
              "      <td>54</td>\n",
              "      <td>1.406358</td>\n",
              "      <td>-0.689253</td>\n",
              "      <td>1.0</td>\n",
              "      <td>0.0</td>\n",
              "      <td>21</td>\n",
              "      <td>1</td>\n",
              "      <td>-0.844062</td>\n",
              "      <td>-1.407006</td>\n",
              "      <td>0</td>\n",
              "      <td>1</td>\n",
              "    </tr>\n",
              "    <tr>\n",
              "      <th>3</th>\n",
              "      <td>1</td>\n",
              "      <td>-1.484863</td>\n",
              "      <td>55</td>\n",
              "      <td>1.406358</td>\n",
              "      <td>-1.400889</td>\n",
              "      <td>0.0</td>\n",
              "      <td>1.0</td>\n",
              "      <td>28</td>\n",
              "      <td>1</td>\n",
              "      <td>0.972421</td>\n",
              "      <td>-1.407006</td>\n",
              "      <td>1</td>\n",
              "      <td>1</td>\n",
              "    </tr>\n",
              "    <tr>\n",
              "      <th>4</th>\n",
              "      <td>0</td>\n",
              "      <td>-0.838871</td>\n",
              "      <td>9</td>\n",
              "      <td>-1.446083</td>\n",
              "      <td>-1.400889</td>\n",
              "      <td>1.0</td>\n",
              "      <td>2.0</td>\n",
              "      <td>28</td>\n",
              "      <td>1</td>\n",
              "      <td>0.712923</td>\n",
              "      <td>0.715193</td>\n",
              "      <td>1</td>\n",
              "      <td>0</td>\n",
              "    </tr>\n",
              "    <tr>\n",
              "      <th>5</th>\n",
              "      <td>0</td>\n",
              "      <td>1.502850</td>\n",
              "      <td>26</td>\n",
              "      <td>-0.732973</td>\n",
              "      <td>1.445655</td>\n",
              "      <td>1.0</td>\n",
              "      <td>0.0</td>\n",
              "      <td>82</td>\n",
              "      <td>0</td>\n",
              "      <td>0.193928</td>\n",
              "      <td>1.422593</td>\n",
              "      <td>0</td>\n",
              "      <td>0</td>\n",
              "    </tr>\n",
              "    <tr>\n",
              "      <th>6</th>\n",
              "      <td>1</td>\n",
              "      <td>0.533862</td>\n",
              "      <td>11</td>\n",
              "      <td>1.406358</td>\n",
              "      <td>-0.689253</td>\n",
              "      <td>2.0</td>\n",
              "      <td>1.0</td>\n",
              "      <td>83</td>\n",
              "      <td>0</td>\n",
              "      <td>-0.065570</td>\n",
              "      <td>-0.699607</td>\n",
              "      <td>0</td>\n",
              "      <td>0</td>\n",
              "    </tr>\n",
              "    <tr>\n",
              "      <th>7</th>\n",
              "      <td>1</td>\n",
              "      <td>-0.192879</td>\n",
              "      <td>55</td>\n",
              "      <td>-0.019863</td>\n",
              "      <td>0.734019</td>\n",
              "      <td>2.0</td>\n",
              "      <td>2.0</td>\n",
              "      <td>21</td>\n",
              "      <td>0</td>\n",
              "      <td>0.972421</td>\n",
              "      <td>0.007793</td>\n",
              "      <td>1</td>\n",
              "      <td>0</td>\n",
              "    </tr>\n",
              "    <tr>\n",
              "      <th>8</th>\n",
              "      <td>0</td>\n",
              "      <td>-1.323365</td>\n",
              "      <td>54</td>\n",
              "      <td>-0.732973</td>\n",
              "      <td>1.445655</td>\n",
              "      <td>1.0</td>\n",
              "      <td>1.0</td>\n",
              "      <td>36</td>\n",
              "      <td>0</td>\n",
              "      <td>-0.844062</td>\n",
              "      <td>-0.699607</td>\n",
              "      <td>1</td>\n",
              "      <td>0</td>\n",
              "    </tr>\n",
              "    <tr>\n",
              "      <th>9</th>\n",
              "      <td>0</td>\n",
              "      <td>0.130117</td>\n",
              "      <td>22</td>\n",
              "      <td>0.693248</td>\n",
              "      <td>-1.400889</td>\n",
              "      <td>1.0</td>\n",
              "      <td>0.0</td>\n",
              "      <td>84</td>\n",
              "      <td>1</td>\n",
              "      <td>0.193928</td>\n",
              "      <td>-0.699607</td>\n",
              "      <td>1</td>\n",
              "      <td>0</td>\n",
              "    </tr>\n",
              "  </tbody>\n",
              "</table>\n",
              "</div>"
            ]
          },
          "execution_count": 94,
          "metadata": {},
          "execution_count": 94
        }
      ]
    },
    {
      "cell_type": "code",
      "execution_count": 98,
      "id": "B1kGNivTot3j",
      "metadata": {
        "id": "B1kGNivTot3j"
      },
      "outputs": [],
      "source": [
        "# delete any row with null value\n",
        "df = df.dropna()\n",
        "\n",
        "X = df.drop(columns=['Depression'])\n",
        "y = df['Depression']\n",
        "\n",
        "X_train, X_test, y_train, y_test = train_test_split(\n",
        "    X, y, test_size=0.2, random_state=42, stratify=y\n",
        ")"
      ],
      "metadata": {
        "id": "B1kGNivTot3j"
      },
      "id": "B1kGNivTot3j",
      "execution_count": 98,
      "outputs": []
    },
    {
      "cell_type": "markdown",
      "source": [
        "# Logistic Regression"
      ],
      "metadata": {
        "id": "5cw7TWwkGha4"
      },
      "source": [
        "# Logistic Regression"
      ]
    },
    {
      "cell_type": "code",
      "source": [
        "if gpu_available:\n",
        "    from cuml.linear_model import LogisticRegression\n",
        "else:\n",
        "    from sklearn.linear_model import LogisticRegression\n",
        "\n",
        "\n",
        "model = cuml.linear_model.LogisticRegression(max_iter=500)\n",
        "model.fit(X_train, y_train)\n",
        "y_pred = model.predict(X_test)\n",
        "\n",
        "print(accuracy_score(y_test, y_pred))\n",
        "print(\"confusion matrix:\\n\", confusion_matrix(y_test.to_numpy(), y_pred.to_numpy()))\n",
        "print(\"classfication report:\\n\", classification_report(y_test.to_numpy(), y_pred.to_numpy()))"
      ],
      "metadata": {
        "id": "O_jrhUhgCQGe",
        "outputId": "687ad966-da1b-4f88-ffb4-cb258767fa02",
        "colab": {
          "base_uri": "https://localhost:8080/"
        },
        "id": "O_jrhUhgCQGe",
        "outputId": "687ad966-da1b-4f88-ffb4-cb258767fa02"
      },
      "id": "O_jrhUhgCQGe",
      "execution_count": 99,
      "outputs": [
        {
          "name": "stdout",
          "output_type": "stream",
          "text": [
            "--------------------------------------------------Losgistic Regression--------------------------------------------------\n",
            "Accuracy: 0.9298239373999644\n",
            "Confusion Matrix:\n",
            " [[22143   864]\n",
            " [ 1109  3999]]\n",
            "Classification Report:\n",
            "               precision    recall  f1-score   support\n",
            "\n",
            "           0       0.95      0.96      0.96     23007\n",
            "           1       0.82      0.78      0.80      5108\n",
            "\n",
            "    accuracy                           0.93     28115\n",
            "   macro avg       0.89      0.87      0.88     28115\n",
            "weighted avg       0.93      0.93      0.93     28115\n",
            "\n",
            "--------------------------------------------------Random Forest--------------------------------------------------\n",
            "Accuracy: 0.9373643962297706\n",
            "Confusion Matrix:\n",
            " [[22248   759]\n",
            " [ 1002  4106]]\n",
            "Classification Report:\n",
            "               precision    recall  f1-score   support\n",
            "\n",
            "           0       0.96      0.97      0.96     23007\n",
            "           1       0.84      0.80      0.82      5108\n",
            "\n",
            "    accuracy                           0.94     28115\n",
            "   macro avg       0.90      0.89      0.89     28115\n",
            "weighted avg       0.94      0.94      0.94     28115\n",
            "\n",
            "--------------------------------------------------SVM--------------------------------------------------\n",
            "Accuracy: 0.9288280277431976\n",
            "Confusion Matrix:\n",
            " [[22266   741]\n",
            " [ 1260  3848]]\n",
            "Classification Report:\n",
            "               precision    recall  f1-score   support\n",
            "\n",
            "           0       0.95      0.97      0.96     23007\n",
            "           1       0.84      0.75      0.79      5108\n",
            "\n",
            "    accuracy                           0.93     28115\n",
            "   macro avg       0.89      0.86      0.88     28115\n",
            "weighted avg       0.93      0.93      0.93     28115\n",
            "\n",
            "--------------------------------------------------KNN--------------------------------------------------\n",
            "Accuracy: 0.9238484794593633\n",
            "Confusion Matrix:\n",
            " [[22022   985]\n",
            " [ 1156  3952]]\n",
            "Classification Report:\n",
            "               precision    recall  f1-score   support\n",
            "\n",
            "           0       0.95      0.96      0.95     23007\n",
            "           1       0.80      0.77      0.79      5108\n",
            "\n",
            "    accuracy                           0.92     28115\n",
            "   macro avg       0.88      0.87      0.87     28115\n",
            "weighted avg       0.92      0.92      0.92     28115\n",
            "\n"
          ]
        }
      ]
    },
    {
      "cell_type": "markdown",
      "source": [
        "# Random Forest"
      ],
      "metadata": {
        "id": "6BS4cFVAHEFY"
      },
      "id": "6BS4cFVAHEFY"
    },
    {
      "cell_type": "code",
      "source": [
        "if gpu_available:\n",
        "    from cuml.ensemble  import RandomForestClassifier\n",
        "else:\n",
        "    from sklearn.ensemble import RandomForestClassifier\n",
        "\n",
        "model = RandomForestClassifier(n_estimators=120, random_state=102)\n",
        "model.fit(X_train, y_train)\n",
        "y_pred = model.predict(X_test)\n",
        "\n",
        "print(accuracy_score(y_test, y_pred))\n",
        "print(\"confusion matrix:\\n\", confusion_matrix(y_test.to_numpy(), y_pred.to_numpy()))\n",
        "print(\"classfication report:\\n\", classification_report(y_test.to_numpy(), y_pred.to_numpy()))"
      ],
      "metadata": {
        "id": "wFZxVE64HGOB",
        "outputId": "ed25d746-9060-473a-aa21-7bebf724e33a",
        "colab": {
          "base_uri": "https://localhost:8080/"
        }
      },
      "id": "wFZxVE64HGOB",
      "execution_count": 104,
      "outputs": [
        {
          "output_type": "stream",
          "name": "stderr",
          "text": [
            "/usr/local/lib/python3.11/dist-packages/cuml/internals/api_decorators.py:368: UserWarning: For reproducible results in Random Forest Classifier or for almost reproducible results in Random Forest Regressor, n_streams=1 is recommended. If n_streams is > 1, results may vary due to stream/thread timing differences, even when random_state is set\n",
            "  return init_func(self, *args, **kwargs)\n"
          ]
        },
        {
          "output_type": "stream",
          "name": "stdout",
          "text": [
            "0.9366084337234497\n",
            "confusion matrix:\n",
            " [[22236   769]\n",
            " [ 1013  4093]]\n",
            "classfication report:\n",
            "               precision    recall  f1-score   support\n",
            "\n",
            "           0       0.96      0.97      0.96     23005\n",
            "           1       0.84      0.80      0.82      5106\n",
            "\n",
            "    accuracy                           0.94     28111\n",
            "   macro avg       0.90      0.88      0.89     28111\n",
            "weighted avg       0.94      0.94      0.94     28111\n",
            "\n"
          ]
        }
      ]
    }
  ],
  "metadata": {
    "accelerator": "GPU",
    "colab": {
      "provenance": [],
      "gpuType": "T4"
    },
    "kernelspec": {
      "display_name": "base",
      "language": "python",
      "name": "python3"
    },
    "accelerator": "GPU"
  },
  "nbformat": 4,
  "nbformat_minor": 5
}
