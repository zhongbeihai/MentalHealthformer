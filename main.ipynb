{
  "metadata": {
    "kernelspec": {
      "name": "python3",
      "display_name": "Python 3"
    },
    "language_info": {
      "name": "python",
      "version": "3.11.11",
      "mimetype": "text/x-python",
      "codemirror_mode": {
        "name": "ipython",
        "version": 3
      },
      "pygments_lexer": "ipython3",
      "nbconvert_exporter": "python",
      "file_extension": ".py"
    },
    "colab": {
      "gpuType": "T4",
      "provenance": []
    },
    "accelerator": "GPU",
    "kaggle": {
      "accelerator": "nvidiaTeslaT4",
      "dataSources": [
        {
          "sourceId": 84895,
          "databundleVersionId": 10008389,
          "sourceType": "competition"
        }
      ],
      "dockerImageVersionId": 31040,
      "isInternetEnabled": true,
      "language": "python",
      "sourceType": "notebook",
      "isGpuEnabled": true
    }
  },
  "nbformat_minor": 5,
  "nbformat": 4,
  "cells": [
    {
      "id": "LyU3TSv8FrZ9",
      "cell_type": "code",
      "source": [
        "from numba import cuda\n",
        "\n",
        "def is_gpu_available():\n",
        "    try:\n",
        "        return cuda.is_available()\n",
        "    except:\n",
        "        return False\n",
        "\n",
        "gpu_available = is_gpu_available()\n",
        "print(f\"GPU is available: {gpu_available}\")"
      ],
      "metadata": {
        "colab": {
          "base_uri": "https://localhost:8080/"
        },
        "id": "LyU3TSv8FrZ9",
        "outputId": "0da21258-317a-49eb-8857-0f8d3fdc9f68",
        "trusted": true,
        "execution": {
          "iopub.status.busy": "2025-05-19T04:55:58.579699Z",
          "iopub.execute_input": "2025-05-19T04:55:58.580009Z",
          "iopub.status.idle": "2025-05-19T04:55:58.585216Z",
          "shell.execute_reply.started": "2025-05-19T04:55:58.579987Z",
          "shell.execute_reply": "2025-05-19T04:55:58.584337Z"
        }
      },
      "outputs": [
        {
          "output_type": "stream",
          "name": "stdout",
          "text": [
            "GPU is available: True\n"
          ]
        }
      ],
      "execution_count": 8
    },
    {
      "id": "7T0mas9FnnVc",
      "cell_type": "code",
      "source": [
        "if gpu_available:\n",
        "    import cudf as pd\n",
        "    from cuml.preprocessing import LabelEncoder, StandardScaler\n",
        "    from cuml.model_selection import train_test_split\n",
        "else:\n",
        "    import pandas as pd\n",
        "    from sklearn.preprocessing import LabelEncoder, StandardScaler\n",
        "    from sklearn.model_selection import train_test_split"
      ],
      "metadata": {
        "id": "7T0mas9FnnVc",
        "trusted": true,
        "execution": {
          "iopub.status.busy": "2025-05-19T04:55:58.586583Z",
          "iopub.execute_input": "2025-05-19T04:55:58.586864Z",
          "iopub.status.idle": "2025-05-19T04:55:58.601459Z",
          "shell.execute_reply.started": "2025-05-19T04:55:58.586848Z",
          "shell.execute_reply": "2025-05-19T04:55:58.600753Z"
        }
      },
      "outputs": [],
      "execution_count": 9
    },
    {
      "id": "yKQM5eilojGZ",
      "cell_type": "markdown",
      "source": [
        "# Read Data\n",
        "use cudf to read data into GPU\n",
        "\n",
        "- delete unuseful colums(id, Name, City)\n",
        "- Combine[(Academic Pressure, Work Pressure), (Working professional or student, Profession), (Study Satisfaction, Job Satisfaction)]\n",
        "- Normalize or mapping"
      ],
      "metadata": {
        "id": "yKQM5eilojGZ"
      }
    },
    {
      "id": "QLW8I_xTorYi",
      "cell_type": "code",
      "source": [
        "df = pd.read_csv(\"/content/train.csv\")\n",
        "\n",
        "\n",
        "# drop 'id' , 'Name' (Not revelant), 'city'\n",
        "df.drop(['id', 'Name'], axis=1, inplace=True)\n",
        "df.drop(['City'], axis=1, inplace=True)\n",
        "# combine 'working professional or student' and 'Profession'\n",
        "df['Working Professional or Student'] = df['Profession'].fillna(df['Working Professional or Student'])\n",
        "df.drop(['Profession'], axis=1, inplace=True)\n",
        "# combine 'Academic Pressure' and 'Work Pressure'\n",
        "df['Academic Pressure'] = df['Work Pressure'].fillna(df['Academic Pressure'])\n",
        "df.drop(['Work Pressure'], axis=1, inplace=True)\n",
        "# combine 'Study Satisfaction' and 'Job Satisfaction'\n",
        "df['Study Satisfaction'] = df['Job Satisfaction'].fillna(df['Study Satisfaction'])\n",
        "df.drop(['Job Satisfaction'], axis=1, inplace=True)\n",
        "# most of 'CGPA' leave null, drop it\n",
        "df.drop(['CGPA'], axis=1, inplace=True)\n",
        "\n",
        "# one - hot encoder\n",
        "df['Working Professional or Student'] = LabelEncoder().fit_transform(df['Working Professional or Student'])\n",
        "df['Degree'] = LabelEncoder().fit_transform(df['Degree'])\n",
        "df['Academic Pressure'] = LabelEncoder().fit_transform(df['Academic Pressure'])\n",
        "\n",
        "\n",
        "# bool\n",
        "df['Have you ever had suicidal thoughts ?'] = df['Have you ever had suicidal thoughts ?'].map({'Yes': 1, 'No': 0})\n",
        "df['Family History of Mental Illness'] = df['Family History of Mental Illness'].map({'Yes': 1, 'No': 0})\n",
        "df['Gender'] = df['Gender'].map({'Male': 1, 'Female': 0})\n",
        "df['Sleep Duration'] = df['Sleep Duration'].map({'Less than 5 hours': 0, '5-6 hours': 1, '7-8 hours': 2, 'More than 8 hours': 3})\n",
        "df['Dietary Habits'] = df['Dietary Habits'].map({'Healthy': 0, 'Moderate': 1, 'Unhealthy': 2})\n",
        "\n",
        "# normalize all constant value\n",
        "cols_to_scale = [\n",
        "    'Age', 'Academic Pressure', 'Study Satisfaction',\n",
        "    'Work/Study Hours', 'Financial Stress'\n",
        "]\n",
        "scaler = StandardScaler()\n",
        "df[cols_to_scale] = scaler.fit_transform(df[cols_to_scale])\n",
        "\n",
        "\n",
        "df.head(10)"
      ],
      "metadata": {
        "colab": {
          "base_uri": "https://localhost:8080/",
          "height": 470
        },
        "id": "QLW8I_xTorYi",
        "outputId": "1f461a55-b09e-4900-943b-84d0087a24c1",
        "trusted": true,
        "execution": {
          "iopub.status.busy": "2025-05-19T04:55:58.605832Z",
          "iopub.execute_input": "2025-05-19T04:55:58.606072Z",
          "iopub.status.idle": "2025-05-19T04:55:58.787748Z",
          "shell.execute_reply.started": "2025-05-19T04:55:58.606056Z",
          "shell.execute_reply": "2025-05-19T04:55:58.787121Z"
        }
      },
      "outputs": [
        {
          "output_type": "execute_result",
          "data": {
            "text/plain": [
              "   Gender       Age  Working Professional or Student  Academic Pressure  \\\n",
              "0       0  0.695360                               10           1.407041   \n",
              "1       1 -1.161867                               55           0.693745   \n",
              "2       1 -0.596624                               54           1.407041   \n",
              "3       1 -1.484863                               55           1.407041   \n",
              "4       0 -0.838871                                9          -1.446144   \n",
              "5       0  1.502850                               26          -0.732848   \n",
              "6       1  0.533862                               11           1.407041   \n",
              "7       1 -0.192879                               55          -0.019551   \n",
              "8       0 -1.323365                               54          -0.732848   \n",
              "9       0  0.130117                               22           0.693745   \n",
              "\n",
              "   Study Satisfaction  Sleep Duration  Dietary Habits  Degree  \\\n",
              "0           -0.689253               3               0      33   \n",
              "1            0.022383               0               2      63   \n",
              "2           -0.689253               1               0      21   \n",
              "3           -1.400889               0               1      28   \n",
              "4           -1.400889               1               2      28   \n",
              "5            1.445655               1               0      82   \n",
              "6           -0.689253               2               1      83   \n",
              "7            0.734019               2               2      21   \n",
              "8            1.445655               1               1      36   \n",
              "9           -1.400889               1               0      84   \n",
              "\n",
              "   Have you ever had suicidal thoughts ?  Work/Study Hours  Financial Stress  \\\n",
              "0                                      0         -1.363057         -0.699607   \n",
              "1                                      1          0.193928          0.007793   \n",
              "2                                      1         -0.844062         -1.407006   \n",
              "3                                      1          0.972421         -1.407006   \n",
              "4                                      1          0.712923          0.715193   \n",
              "5                                      0          0.193928          1.422593   \n",
              "6                                      0         -0.065570         -0.699607   \n",
              "7                                      0          0.972421          0.007793   \n",
              "8                                      0         -0.844062         -0.699607   \n",
              "9                                      1          0.193928         -0.699607   \n",
              "\n",
              "   Family History of Mental Illness  Depression  \n",
              "0                                 0           0  \n",
              "1                                 0           1  \n",
              "2                                 0           1  \n",
              "3                                 1           1  \n",
              "4                                 1           0  \n",
              "5                                 0           0  \n",
              "6                                 0           0  \n",
              "7                                 1           0  \n",
              "8                                 1           0  \n",
              "9                                 1           0  "
            ],
            "text/html": [
              "<div>\n",
              "<style scoped>\n",
              "    .dataframe tbody tr th:only-of-type {\n",
              "        vertical-align: middle;\n",
              "    }\n",
              "\n",
              "    .dataframe tbody tr th {\n",
              "        vertical-align: top;\n",
              "    }\n",
              "\n",
              "    .dataframe thead th {\n",
              "        text-align: right;\n",
              "    }\n",
              "</style>\n",
              "<table border=\"1\" class=\"dataframe\">\n",
              "  <thead>\n",
              "    <tr style=\"text-align: right;\">\n",
              "      <th></th>\n",
              "      <th>Gender</th>\n",
              "      <th>Age</th>\n",
              "      <th>Working Professional or Student</th>\n",
              "      <th>Academic Pressure</th>\n",
              "      <th>Study Satisfaction</th>\n",
              "      <th>Sleep Duration</th>\n",
              "      <th>Dietary Habits</th>\n",
              "      <th>Degree</th>\n",
              "      <th>Have you ever had suicidal thoughts ?</th>\n",
              "      <th>Work/Study Hours</th>\n",
              "      <th>Financial Stress</th>\n",
              "      <th>Family History of Mental Illness</th>\n",
              "      <th>Depression</th>\n",
              "    </tr>\n",
              "  </thead>\n",
              "  <tbody>\n",
              "    <tr>\n",
              "      <th>0</th>\n",
              "      <td>0</td>\n",
              "      <td>0.695360</td>\n",
              "      <td>10</td>\n",
              "      <td>1.407041</td>\n",
              "      <td>-0.689253</td>\n",
              "      <td>3</td>\n",
              "      <td>0</td>\n",
              "      <td>33</td>\n",
              "      <td>0</td>\n",
              "      <td>-1.363057</td>\n",
              "      <td>-0.699607</td>\n",
              "      <td>0</td>\n",
              "      <td>0</td>\n",
              "    </tr>\n",
              "    <tr>\n",
              "      <th>1</th>\n",
              "      <td>1</td>\n",
              "      <td>-1.161867</td>\n",
              "      <td>55</td>\n",
              "      <td>0.693745</td>\n",
              "      <td>0.022383</td>\n",
              "      <td>0</td>\n",
              "      <td>2</td>\n",
              "      <td>63</td>\n",
              "      <td>1</td>\n",
              "      <td>0.193928</td>\n",
              "      <td>0.007793</td>\n",
              "      <td>0</td>\n",
              "      <td>1</td>\n",
              "    </tr>\n",
              "    <tr>\n",
              "      <th>2</th>\n",
              "      <td>1</td>\n",
              "      <td>-0.596624</td>\n",
              "      <td>54</td>\n",
              "      <td>1.407041</td>\n",
              "      <td>-0.689253</td>\n",
              "      <td>1</td>\n",
              "      <td>0</td>\n",
              "      <td>21</td>\n",
              "      <td>1</td>\n",
              "      <td>-0.844062</td>\n",
              "      <td>-1.407006</td>\n",
              "      <td>0</td>\n",
              "      <td>1</td>\n",
              "    </tr>\n",
              "    <tr>\n",
              "      <th>3</th>\n",
              "      <td>1</td>\n",
              "      <td>-1.484863</td>\n",
              "      <td>55</td>\n",
              "      <td>1.407041</td>\n",
              "      <td>-1.400889</td>\n",
              "      <td>0</td>\n",
              "      <td>1</td>\n",
              "      <td>28</td>\n",
              "      <td>1</td>\n",
              "      <td>0.972421</td>\n",
              "      <td>-1.407006</td>\n",
              "      <td>1</td>\n",
              "      <td>1</td>\n",
              "    </tr>\n",
              "    <tr>\n",
              "      <th>4</th>\n",
              "      <td>0</td>\n",
              "      <td>-0.838871</td>\n",
              "      <td>9</td>\n",
              "      <td>-1.446144</td>\n",
              "      <td>-1.400889</td>\n",
              "      <td>1</td>\n",
              "      <td>2</td>\n",
              "      <td>28</td>\n",
              "      <td>1</td>\n",
              "      <td>0.712923</td>\n",
              "      <td>0.715193</td>\n",
              "      <td>1</td>\n",
              "      <td>0</td>\n",
              "    </tr>\n",
              "    <tr>\n",
              "      <th>5</th>\n",
              "      <td>0</td>\n",
              "      <td>1.502850</td>\n",
              "      <td>26</td>\n",
              "      <td>-0.732848</td>\n",
              "      <td>1.445655</td>\n",
              "      <td>1</td>\n",
              "      <td>0</td>\n",
              "      <td>82</td>\n",
              "      <td>0</td>\n",
              "      <td>0.193928</td>\n",
              "      <td>1.422593</td>\n",
              "      <td>0</td>\n",
              "      <td>0</td>\n",
              "    </tr>\n",
              "    <tr>\n",
              "      <th>6</th>\n",
              "      <td>1</td>\n",
              "      <td>0.533862</td>\n",
              "      <td>11</td>\n",
              "      <td>1.407041</td>\n",
              "      <td>-0.689253</td>\n",
              "      <td>2</td>\n",
              "      <td>1</td>\n",
              "      <td>83</td>\n",
              "      <td>0</td>\n",
              "      <td>-0.065570</td>\n",
              "      <td>-0.699607</td>\n",
              "      <td>0</td>\n",
              "      <td>0</td>\n",
              "    </tr>\n",
              "    <tr>\n",
              "      <th>7</th>\n",
              "      <td>1</td>\n",
              "      <td>-0.192879</td>\n",
              "      <td>55</td>\n",
              "      <td>-0.019551</td>\n",
              "      <td>0.734019</td>\n",
              "      <td>2</td>\n",
              "      <td>2</td>\n",
              "      <td>21</td>\n",
              "      <td>0</td>\n",
              "      <td>0.972421</td>\n",
              "      <td>0.007793</td>\n",
              "      <td>1</td>\n",
              "      <td>0</td>\n",
              "    </tr>\n",
              "    <tr>\n",
              "      <th>8</th>\n",
              "      <td>0</td>\n",
              "      <td>-1.323365</td>\n",
              "      <td>54</td>\n",
              "      <td>-0.732848</td>\n",
              "      <td>1.445655</td>\n",
              "      <td>1</td>\n",
              "      <td>1</td>\n",
              "      <td>36</td>\n",
              "      <td>0</td>\n",
              "      <td>-0.844062</td>\n",
              "      <td>-0.699607</td>\n",
              "      <td>1</td>\n",
              "      <td>0</td>\n",
              "    </tr>\n",
              "    <tr>\n",
              "      <th>9</th>\n",
              "      <td>0</td>\n",
              "      <td>0.130117</td>\n",
              "      <td>22</td>\n",
              "      <td>0.693745</td>\n",
              "      <td>-1.400889</td>\n",
              "      <td>1</td>\n",
              "      <td>0</td>\n",
              "      <td>84</td>\n",
              "      <td>1</td>\n",
              "      <td>0.193928</td>\n",
              "      <td>-0.699607</td>\n",
              "      <td>1</td>\n",
              "      <td>0</td>\n",
              "    </tr>\n",
              "  </tbody>\n",
              "</table>\n",
              "</div>"
            ]
          },
          "metadata": {},
          "execution_count": 10
        }
      ],
      "execution_count": 10
    },
    {
      "id": "B1kGNivTot3j",
      "cell_type": "code",
      "source": [
        "# delete any row with null value\n",
        "df = df.dropna()\n",
        "\n",
        "X = df.drop(columns=['Depression'])\n",
        "y = df['Depression']\n",
        "\n",
        "X_train, X_test, y_train, y_test = train_test_split(\n",
        "    X, y, test_size=0.2, random_state=42, stratify=y\n",
        ")"
      ],
      "metadata": {
        "id": "B1kGNivTot3j",
        "trusted": true,
        "execution": {
          "iopub.status.busy": "2025-05-19T04:55:58.788996Z",
          "iopub.execute_input": "2025-05-19T04:55:58.789204Z",
          "iopub.status.idle": "2025-05-19T04:55:58.838635Z",
          "shell.execute_reply.started": "2025-05-19T04:55:58.789189Z",
          "shell.execute_reply": "2025-05-19T04:55:58.838141Z"
        }
      },
      "outputs": [],
      "execution_count": 11
    },
    {
      "id": "Y7W0cm7oeGue",
      "cell_type": "code",
      "source": [
        "from sklearn.metrics import classification_report, confusion_matrix, accuracy_score\n",
        "\n",
        "def evaluate_model(y_true, y_pred):\n",
        "\n",
        "    def to_cpu_array(x):\n",
        "        if hasattr(x, 'to_numpy'):  # cuDF Series\n",
        "            return x.to_numpy()\n",
        "        # elif hasattr(x, 'get'):     # cupy array\n",
        "        #     return x.get()\n",
        "        # elif hasattr(x, 'cpu'):     # torch tensor\n",
        "        #     return x.cpu().numpy()\n",
        "        # elif isinstance(x, (list, np.ndarray)):\n",
        "        #     return np.array(x)\n",
        "        else:\n",
        "            return x  # fallback\n",
        "\n",
        "    y_true = to_cpu_array(y_true)\n",
        "    y_pred = to_cpu_array(y_pred)\n",
        "\n",
        "    print(\"Accuracy:\", accuracy_score(y_true, y_pred))\n",
        "    print(\"Confusion Matrix:\\n\", confusion_matrix(y_true, y_pred))\n",
        "    print(\"Classification Report:\\n\", classification_report(y_true, y_pred))"
      ],
      "metadata": {
        "id": "Y7W0cm7oeGue",
        "trusted": true,
        "execution": {
          "iopub.status.busy": "2025-05-19T04:55:58.839253Z",
          "iopub.execute_input": "2025-05-19T04:55:58.839415Z",
          "iopub.status.idle": "2025-05-19T04:55:58.844222Z",
          "shell.execute_reply.started": "2025-05-19T04:55:58.839403Z",
          "shell.execute_reply": "2025-05-19T04:55:58.843547Z"
        }
      },
      "outputs": [],
      "execution_count": 6
    },
    {
      "id": "5cw7TWwkGha4",
      "cell_type": "markdown",
      "source": [
        "# Machine Learning Method"
      ],
      "metadata": {
        "id": "5cw7TWwkGha4"
      }
    },
    {
      "cell_type": "code",
      "source": [
        "import cudf\n",
        "import cupy as cp\n",
        "from cuml.neighbors import KNeighborsClassifier\n",
        "\n",
        "X_cu = cudf.DataFrame.from_pandas(X_test)\n",
        "y_cu = cudf.Series(y_test)\n",
        "\n",
        "N = len(y_cu)\n",
        "k = max(1, int(cp.sqrt(N)))\n",
        "\n",
        "knn = KNeighborsClassifier(\n",
        "    n_neighbors=k,\n",
        "    algorithm=\"brute\",\n",
        "    metric=\"euclidean\"\n",
        ")\n",
        "\n",
        "knn.fit(X_cu, y_cu)\n",
        "y_pred = knn.predict(X_cu)\n",
        "\n",
        "bayes_err = (y_pred != y_cu).mean().item()   # mean() → cupy float → Python\n",
        "print(f\"Bayes Error (kNN-LOO, k={k}) = {bayes_err:.4f}\")"
      ],
      "metadata": {
        "id": "Z9DnjYGMmGUC",
        "outputId": "cbb7d9d7-d58c-4d56-cd4c-a722c31a2180",
        "colab": {
          "base_uri": "https://localhost:8080/"
        }
      },
      "id": "Z9DnjYGMmGUC",
      "execution_count": 14,
      "outputs": [
        {
          "output_type": "stream",
          "name": "stderr",
          "text": [
            "/usr/local/lib/python3.11/dist-packages/cudf/core/dataframe.py:5571: FutureWarning: Support for loading dataframes via the `__dataframe__` interchange protocol is deprecated\n",
            "  warnings.warn(\n"
          ]
        },
        {
          "output_type": "stream",
          "name": "stdout",
          "text": [
            "Bayes Error (kNN-LOO, k=167) = 0.0935\n"
          ]
        }
      ]
    },
    {
      "id": "O_jrhUhgCQGe",
      "cell_type": "code",
      "source": [
        "if gpu_available:\n",
        "    from cuml.linear_model import LogisticRegression\n",
        "    from cuml.ensemble  import RandomForestClassifier\n",
        "    from cuml.svm import SVC\n",
        "    from cuml.naive_bayes import GaussianNB\n",
        "    from cuml.neighbors import KNeighborsClassifier\n",
        "else:\n",
        "    from sklearn.linear_model import LogisticRegression\n",
        "    from sklearn.ensemble import RandomForestClassifier\n",
        "    from sklearn.svm import SVC\n",
        "    from sklearn.naive_bayes import GaussianNB\n",
        "    from sklearn.neighbors import KNeighborsClassifier\n",
        "\n",
        "# Logistic Regression\n",
        "model = LogisticRegression(max_iter=500)\n",
        "model.fit(X_train, y_train)\n",
        "y_pred = model.predict(X_test)\n",
        "print(\"-\" * 50 + \"Losgistic Regression\" + \"-\" * 50)\n",
        "evaluate_model(y_test, y_pred)\n",
        "\n",
        "\n",
        "# Random Forest\n",
        "model = RandomForestClassifier(criterion=\"log_loss\",\n",
        "                               n_estimators=120, random_state=102)\n",
        "model.fit(X_train, y_train)\n",
        "y_pred = model.predict(X_test)\n",
        "print(\"-\" * 50 + \"Random Forest\" + \"-\" * 50)\n",
        "evaluate_model(y_test, y_pred)\n",
        "\n",
        "\n",
        "# SVM\n",
        "model = SVC()\n",
        "model.fit(X_train, y_train)\n",
        "y_pred = model.predict(X_test)\n",
        "print(\"-\" * 50 + \"SVM\" + \"-\" * 50)\n",
        "evaluate_model(y_test, y_pred)\n",
        "\n",
        "# To-do: still debugging\n",
        "# # Naive Bayes\n",
        "# model = GaussianNB()\n",
        "# model.fit(X_train, y_train)\n",
        "# y_pred = model.predict(X_test)\n",
        "# print(\"-\" * 50 + \"Naive Bayes\" + \"-\" * 50)\n",
        "# evaluate_model(y_test, y_pred)\n",
        "\n",
        "# KNN\n",
        "model = KNeighborsClassifier(n_neighbors=5)\n",
        "model.fit(X_train, y_train)\n",
        "y_pred = model.predict(X_test)\n",
        "print(\"-\" * 50 + \"KNN\" + \"-\" * 50)\n",
        "evaluate_model(y_test, y_pred)\n",
        "\n"
      ],
      "metadata": {
        "colab": {
          "base_uri": "https://localhost:8080/"
        },
        "id": "O_jrhUhgCQGe",
        "outputId": "bceb25b7-eec4-4d42-a3e3-1f606a8ff02f",
        "trusted": true,
        "execution": {
          "iopub.status.busy": "2025-05-19T04:55:58.845885Z",
          "iopub.execute_input": "2025-05-19T04:55:58.846061Z",
          "iopub.status.idle": "2025-05-19T04:56:03.950420Z",
          "shell.execute_reply.started": "2025-05-19T04:55:58.846048Z",
          "shell.execute_reply": "2025-05-19T04:56:03.949708Z"
        }
      },
      "outputs": [
        {
          "name": "stdout",
          "text": "--------------------------------------------------Losgistic Regression--------------------------------------------------\nAccuracy: 0.9292803528867704\nConfusion Matrix:\n [[22177   828]\n [ 1160  3946]]\nClassification Report:\n               precision    recall  f1-score   support\n\n           0       0.95      0.96      0.96     23005\n           1       0.83      0.77      0.80      5106\n\n    accuracy                           0.93     28111\n   macro avg       0.89      0.87      0.88     28111\nweighted avg       0.93      0.93      0.93     28111\n\n",
          "output_type": "stream"
        },
        {
          "name": "stderr",
          "text": "/usr/local/lib/python3.11/dist-packages/cuml/internals/api_decorators.py:368: UserWarning: For reproducible results in Random Forest Classifier or for almost reproducible results in Random Forest Regressor, n_streams=1 is recommended. If n_streams is > 1, results may vary due to stream/thread timing differences, even when random_state is set\n  return init_func(self, *args, **kwargs)\n",
          "output_type": "stream"
        },
        {
          "name": "stdout",
          "text": "--------------------------------------------------Random Forest--------------------------------------------------\nAccuracy: 0.9366084450926684\nConfusion Matrix:\n [[22236   769]\n [ 1013  4093]]\nClassification Report:\n               precision    recall  f1-score   support\n\n           0       0.96      0.97      0.96     23005\n           1       0.84      0.80      0.82      5106\n\n    accuracy                           0.94     28111\n   macro avg       0.90      0.88      0.89     28111\nweighted avg       0.94      0.94      0.94     28111\n\n--------------------------------------------------SVM--------------------------------------------------\nAccuracy: 0.9283198747821138\nConfusion Matrix:\n [[22290   715]\n [ 1300  3806]]\nClassification Report:\n               precision    recall  f1-score   support\n\n           0       0.94      0.97      0.96     23005\n           1       0.84      0.75      0.79      5106\n\n    accuracy                           0.93     28111\n   macro avg       0.89      0.86      0.87     28111\nweighted avg       0.93      0.93      0.93     28111\n\n--------------------------------------------------KNN--------------------------------------------------\nAccuracy: 0.9215609547863826\nConfusion Matrix:\n [[22022   983]\n [ 1222  3884]]\nClassification Report:\n               precision    recall  f1-score   support\n\n           0       0.95      0.96      0.95     23005\n           1       0.80      0.76      0.78      5106\n\n    accuracy                           0.92     28111\n   macro avg       0.87      0.86      0.87     28111\nweighted avg       0.92      0.92      0.92     28111\n\n",
          "output_type": "stream"
        }
      ],
      "execution_count": null
    },
    {
      "id": "4iXr_Ks5DsP0",
      "cell_type": "code",
      "source": [
        "# XGBoost\n",
        "from xgboost import XGBClassifier\n",
        "from collections import Counter\n",
        "import warnings\n",
        "warnings.filterwarnings(\"ignore\", category=FutureWarning)\n",
        "\n",
        "counter = Counter(y_train.to_numpy())\n",
        "scale = counter[0] / counter[1]\n",
        "print(scale)\n",
        "tree_method = 'gpu_hist' if gpu_available else 'hist'\n",
        "predictor = 'gpu_predictor' if gpu_available else 'cpu_predictor'\n",
        "\n",
        "model = XGBClassifier(scale_pos_weight=scale * 0.4, n_estimators=150,\n",
        "    learning_rate=0.05, max_depth=20,\n",
        "    subsample=0.8, colsample_bytree=0.8,\n",
        "    eval_metric='aucpr',\n",
        "    use_label_encoder=False,\n",
        "    random_state=42,\n",
        ")\n",
        "\n",
        "model.fit(X_train, y_train)\n",
        "y_pred = model.predict(X_test)\n",
        "print(\"-\" * 50 + \"XGBoost\" + \"-\" * 50)\n",
        "evaluate_model(y_test, y_pred)\n"
      ],
      "metadata": {
        "colab": {
          "base_uri": "https://localhost:8080/"
        },
        "id": "4iXr_Ks5DsP0",
        "outputId": "54a47d5e-05fb-4c50-cc06-67eae7a6c72b",
        "trusted": true,
        "execution": {
          "iopub.status.busy": "2025-05-19T04:56:03.951069Z",
          "iopub.execute_input": "2025-05-19T04:56:03.951342Z",
          "iopub.status.idle": "2025-05-19T04:56:07.536452Z",
          "shell.execute_reply.started": "2025-05-19T04:56:03.951323Z",
          "shell.execute_reply": "2025-05-19T04:56:07.535788Z"
        }
      },
      "outputs": [
        {
          "name": "stdout",
          "text": "4.505679592636114\n--------------------------------------------------XGBoost--------------------------------------------------\nAccuracy: 0.9366440183558038\nConfusion Matrix:\n [[22117   888]\n [  893  4213]]\nClassification Report:\n               precision    recall  f1-score   support\n\n           0       0.96      0.96      0.96     23005\n           1       0.83      0.83      0.83      5106\n\n    accuracy                           0.94     28111\n   macro avg       0.89      0.89      0.89     28111\nweighted avg       0.94      0.94      0.94     28111\n\n",
          "output_type": "stream"
        }
      ],
      "execution_count": null
    },
    {
      "id": "6BS4cFVAHEFY",
      "cell_type": "markdown",
      "source": [
        "# Neural Network"
      ],
      "metadata": {
        "id": "6BS4cFVAHEFY"
      }
    },
    {
      "id": "35f86018-75ae-4bb1-ac25-c719c1a7c616",
      "cell_type": "code",
      "source": [
        "import torch\n",
        "from torch.utils import dlpack\n",
        "import cudf\n",
        "\n",
        "def cudf_to_torch(df: cudf.DataFrame) ->torch.Tensor:\n",
        "    if isinstance(df, cudf.DataFrame) or isinstance(df, cudf.Series):\n",
        "        dlpack_capsule = df.astype(\"float32\").to_dlpack()\n",
        "        return dlpack.from_dlpack(dlpack_capsule)\n",
        "    else:\n",
        "        raise TypeError(f\"Unsupported data type: {type(df)}\")\n",
        "\n",
        "if gpu_available:\n",
        "    if isinstance(X_train, cudf.DataFrame): X_train = cudf_to_torch(X_train)\n",
        "    if isinstance(X_test, cudf.DataFrame): X_test = cudf_to_torch(X_test)\n",
        "    if isinstance(y_train, cudf.Series): y_train = cudf_to_torch(y_train)\n",
        "    if isinstance(y_test, cudf.Series): y_test = cudf_to_torch(y_test)\n",
        "\n",
        "from torch.utils.data import TensorDataset, DataLoader\n",
        "\n",
        "train_ds = TensorDataset(X_train, y_train)\n",
        "test_ds  = TensorDataset(X_test,  y_test)\n",
        "\n",
        "batch_size = 256\n",
        "train_loader = DataLoader(train_ds, batch_size=batch_size, shuffle=True)\n",
        "test_loader  = DataLoader(test_ds,  batch_size=batch_size, shuffle=False)"
      ],
      "metadata": {
        "trusted": true,
        "execution": {
          "iopub.status.busy": "2025-05-19T04:56:07.537108Z",
          "iopub.execute_input": "2025-05-19T04:56:07.537286Z",
          "iopub.status.idle": "2025-05-19T04:56:07.549641Z",
          "shell.execute_reply.started": "2025-05-19T04:56:07.537273Z",
          "shell.execute_reply": "2025-05-19T04:56:07.548971Z"
        },
        "id": "35f86018-75ae-4bb1-ac25-c719c1a7c616",
        "outputId": "0921f89e-6838-4307-c7ec-b65a0d5fe182",
        "colab": {
          "base_uri": "https://localhost:8080/",
          "height": 332
        }
      },
      "outputs": [
        {
          "output_type": "error",
          "ename": "TypeError",
          "evalue": "Unsupported data type: <class 'NoneType'>",
          "traceback": [
            "\u001b[0;31m---------------------------------------------------------------------------\u001b[0m",
            "\u001b[0;31mTypeError\u001b[0m                                 Traceback (most recent call last)",
            "\u001b[0;32m<ipython-input-21-f781255d3832>\u001b[0m in \u001b[0;36m<cell line: 0>\u001b[0;34m()\u001b[0m\n\u001b[1;32m     13\u001b[0m \u001b[0;34m\u001b[0m\u001b[0m\n\u001b[1;32m     14\u001b[0m \u001b[0;32mif\u001b[0m \u001b[0mgpu_available\u001b[0m\u001b[0;34m:\u001b[0m\u001b[0;34m\u001b[0m\u001b[0;34m\u001b[0m\u001b[0m\n\u001b[0;32m---> 15\u001b[0;31m     \u001b[0mX_train\u001b[0m \u001b[0;34m=\u001b[0m \u001b[0mcudf_to_torch\u001b[0m\u001b[0;34m(\u001b[0m\u001b[0mX_train\u001b[0m\u001b[0;34m)\u001b[0m\u001b[0;34m\u001b[0m\u001b[0;34m\u001b[0m\u001b[0m\n\u001b[0m\u001b[1;32m     16\u001b[0m     \u001b[0mX_test\u001b[0m \u001b[0;34m=\u001b[0m \u001b[0mcudf_to_torch\u001b[0m\u001b[0;34m(\u001b[0m\u001b[0mX_test\u001b[0m\u001b[0;34m)\u001b[0m\u001b[0;34m\u001b[0m\u001b[0;34m\u001b[0m\u001b[0m\n\u001b[1;32m     17\u001b[0m     \u001b[0my_train\u001b[0m \u001b[0;34m=\u001b[0m \u001b[0mcudf_to_torch\u001b[0m\u001b[0;34m(\u001b[0m\u001b[0my_train\u001b[0m\u001b[0;34m)\u001b[0m\u001b[0;34m\u001b[0m\u001b[0;34m\u001b[0m\u001b[0m\n",
            "\u001b[0;32m<ipython-input-21-f781255d3832>\u001b[0m in \u001b[0;36mcudf_to_torch\u001b[0;34m(df)\u001b[0m\n\u001b[1;32m     10\u001b[0m          \u001b[0;32mreturn\u001b[0m \u001b[0mdf\u001b[0m\u001b[0;34m.\u001b[0m\u001b[0mfloat\u001b[0m\u001b[0;34m(\u001b[0m\u001b[0;34m)\u001b[0m\u001b[0;34m\u001b[0m\u001b[0;34m\u001b[0m\u001b[0m\n\u001b[1;32m     11\u001b[0m     \u001b[0;32melse\u001b[0m\u001b[0;34m:\u001b[0m\u001b[0;34m\u001b[0m\u001b[0;34m\u001b[0m\u001b[0m\n\u001b[0;32m---> 12\u001b[0;31m         \u001b[0;32mraise\u001b[0m \u001b[0mTypeError\u001b[0m\u001b[0;34m(\u001b[0m\u001b[0;34mf\"Unsupported data type: {type(df)}\"\u001b[0m\u001b[0;34m)\u001b[0m\u001b[0;34m\u001b[0m\u001b[0;34m\u001b[0m\u001b[0m\n\u001b[0m\u001b[1;32m     13\u001b[0m \u001b[0;34m\u001b[0m\u001b[0m\n\u001b[1;32m     14\u001b[0m \u001b[0;32mif\u001b[0m \u001b[0mgpu_available\u001b[0m\u001b[0;34m:\u001b[0m\u001b[0;34m\u001b[0m\u001b[0;34m\u001b[0m\u001b[0m\n",
            "\u001b[0;31mTypeError\u001b[0m: Unsupported data type: <class 'NoneType'>"
          ]
        }
      ],
      "execution_count": 21
    },
    {
      "id": "wFZxVE64HGOB",
      "cell_type": "code",
      "source": [
        "# MLP\n",
        "import torch.nn as nn\n",
        "import torch.nn.functional as F\n",
        "from tqdm import tqdm\n",
        "\n",
        "class MLP(nn.Module):\n",
        "    def __init__(self, in_features, hidden=[256, 128, 64], dropout=0.3):\n",
        "        super().__init__()\n",
        "        layers = []\n",
        "        dim = in_features\n",
        "        for h in hidden:\n",
        "            layers += [nn.Linear(dim, h), nn.ReLU(), nn.Dropout(dropout)] # Linear → ReLU → Dropout\n",
        "            dim = h\n",
        "        layers.append(nn.Linear(dim, 1)) # Output logic 1 dim\n",
        "        self.net = nn.Sequential(*layers)\n",
        "\n",
        "    def forward(self, x):\n",
        "        return self.net(x).squeeze(1)\n",
        "\n",
        "\n",
        "device = torch.device(\"cuda\") if gpu_available else torch.device(\"cpu\")\n",
        "model  = MLP(X_train.shape[1]).to(device)\n",
        "\n",
        "# pos_weight = N_neg / N_pos\n",
        "pos_weight = torch.tensor(\n",
        "    (y_train == 0).sum() / (y_train == 1).sum(),\n",
        "    dtype=torch.float32, device=device\n",
        ")\n",
        "criterion = nn.BCEWithLogitsLoss(pos_weight=pos_weight)\n",
        "optimizer = torch.optim.Adam(model.parameters(), lr=1e-3)\n",
        "scheduler = torch.optim.lr_scheduler.ReduceLROnPlateau(\n",
        "    optimizer, mode=\"min\", factor=0.5, patience=3, verbose=True\n",
        ")\n",
        "\n",
        "best_loss, best_state = float(\"inf\") , None\n",
        "epochs = 10\n",
        "for epoch in range(1, epochs + 1):\n",
        "    # --- train ---\n",
        "    model.train()\n",
        "    running_loss = 0.0\n",
        "    for xb, yb in tqdm(train_loader, desc=f\"Epoch {epoch}\", leave=False):\n",
        "        optimizer.zero_grad(set_to_none=True)\n",
        "        loss = criterion(model(xb), yb)\n",
        "        loss.backward()\n",
        "        optimizer.step()\n",
        "        running_loss += loss.item() * xb.size(0)\n",
        "\n",
        "    epoch_loss = running_loss / len(train_loader.dataset)\n",
        "    print(f\"[Epoch {epoch}] train_loss = {epoch_loss:.4f}\")\n",
        "    scheduler.step(epoch_loss)\n",
        "\n",
        "    if epoch_loss < best_loss:\n",
        "        best_loss, best_state = epoch_loss, model.state_dict()\n",
        "\n",
        "model.load_state_dict(best_state)\n",
        "model.eval()\n",
        "with torch.no_grad():\n",
        "    y_prob = torch.sigmoid(torch.cat([model(xb) for xb, _ in test_loader])).cpu().numpy()\n",
        "\n",
        "from sklearn.metrics import precision_recall_curve, classification_report\n",
        "prec, rec, thr = precision_recall_curve(y_test.cpu().numpy(), y_prob)\n",
        "f1   = 2 * prec * rec / (prec + rec + 1e-9)\n",
        "best_thr = thr[f1.argmax()]\n",
        "print(f\"best_thr = {best_thr:.4f},  best F1 = {f1.max():.4f}\")\n",
        "\n",
        "y_pred = (y_prob >= best_thr).astype(int)\n",
        "evaluate_model(y_test.cpu().numpy(), y_pred)"
      ],
      "metadata": {
        "id": "wFZxVE64HGOB",
        "trusted": true,
        "execution": {
          "iopub.status.busy": "2025-05-19T04:59:54.558307Z",
          "iopub.execute_input": "2025-05-19T04:59:54.558960Z",
          "iopub.status.idle": "2025-05-19T05:00:12.901071Z",
          "shell.execute_reply.started": "2025-05-19T04:59:54.558936Z",
          "shell.execute_reply": "2025-05-19T05:00:12.900464Z"
        },
        "outputId": "8550b766-eeb1-4caf-a47e-b6676b755c67",
        "colab": {
          "base_uri": "https://localhost:8080/",
          "height": 211
        }
      },
      "outputs": [
        {
          "output_type": "error",
          "ename": "AttributeError",
          "evalue": "'NoneType' object has no attribute 'shape'",
          "traceback": [
            "\u001b[0;31m---------------------------------------------------------------------------\u001b[0m",
            "\u001b[0;31mAttributeError\u001b[0m                            Traceback (most recent call last)",
            "\u001b[0;32m<ipython-input-22-7ef4439189a8>\u001b[0m in \u001b[0;36m<cell line: 0>\u001b[0;34m()\u001b[0m\n\u001b[1;32m     20\u001b[0m \u001b[0;34m\u001b[0m\u001b[0m\n\u001b[1;32m     21\u001b[0m \u001b[0mdevice\u001b[0m \u001b[0;34m=\u001b[0m \u001b[0mtorch\u001b[0m\u001b[0;34m.\u001b[0m\u001b[0mdevice\u001b[0m\u001b[0;34m(\u001b[0m\u001b[0;34m\"cuda\"\u001b[0m\u001b[0;34m)\u001b[0m \u001b[0;32mif\u001b[0m \u001b[0mgpu_available\u001b[0m \u001b[0;32melse\u001b[0m \u001b[0mtorch\u001b[0m\u001b[0;34m.\u001b[0m\u001b[0mdevice\u001b[0m\u001b[0;34m(\u001b[0m\u001b[0;34m\"cpu\"\u001b[0m\u001b[0;34m)\u001b[0m\u001b[0;34m\u001b[0m\u001b[0;34m\u001b[0m\u001b[0m\n\u001b[0;32m---> 22\u001b[0;31m \u001b[0mmodel\u001b[0m  \u001b[0;34m=\u001b[0m \u001b[0mMLP\u001b[0m\u001b[0;34m(\u001b[0m\u001b[0mX_train\u001b[0m\u001b[0;34m.\u001b[0m\u001b[0mshape\u001b[0m\u001b[0;34m[\u001b[0m\u001b[0;36m1\u001b[0m\u001b[0;34m]\u001b[0m\u001b[0;34m)\u001b[0m\u001b[0;34m.\u001b[0m\u001b[0mto\u001b[0m\u001b[0;34m(\u001b[0m\u001b[0mdevice\u001b[0m\u001b[0;34m)\u001b[0m\u001b[0;34m\u001b[0m\u001b[0;34m\u001b[0m\u001b[0m\n\u001b[0m\u001b[1;32m     23\u001b[0m \u001b[0;34m\u001b[0m\u001b[0m\n\u001b[1;32m     24\u001b[0m \u001b[0;31m# pos_weight = N_neg / N_pos\u001b[0m\u001b[0;34m\u001b[0m\u001b[0;34m\u001b[0m\u001b[0m\n",
            "\u001b[0;31mAttributeError\u001b[0m: 'NoneType' object has no attribute 'shape'"
          ]
        }
      ],
      "execution_count": 22
    },
    {
      "id": "2f5b1976-2868-444f-a683-8256c63e039f",
      "cell_type": "code",
      "source": [],
      "metadata": {
        "trusted": true,
        "id": "2f5b1976-2868-444f-a683-8256c63e039f"
      },
      "outputs": [],
      "execution_count": null
    }
  ]
}